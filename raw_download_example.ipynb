{
 "cells": [
  {
   "cell_type": "markdown",
   "metadata": {},
   "source": [
    "# Raw Download Example\n",
    "\n",
    "## Objectives\n",
    "1. <a href=\"#find\">Find the latest latest available output from the GFS CONUS 95km</a>\n",
    "1. <a href=\"#local\">Download the latest output</a>\n",
    "1. <a href=\"#open\">Open the latest output as python file object</a>"
   ]
  },
  {
   "cell_type": "markdown",
   "metadata": {},
   "source": [
    "<a name=\"find\"></a>\n",
    "Let's get the latest available output from the GFS CONUS 95km"
   ]
  },
  {
   "cell_type": "code",
   "execution_count": 1,
   "metadata": {
    "collapsed": true
   },
   "outputs": [],
   "source": [
    "from siphon.catalog import TDSCatalog\n",
    "cat = TDSCatalog('http://thredds.ucar.edu/thredds/catalog/'\n",
    "                 'grib/NCEP/GFS/CONUS_95km/catalog.xml')"
   ]
  },
  {
   "cell_type": "code",
   "execution_count": 2,
   "metadata": {
    "collapsed": true
   },
   "outputs": [],
   "source": [
    "latest_dataset = cat.latest"
   ]
  },
  {
   "cell_type": "code",
   "execution_count": 3,
   "metadata": {},
   "outputs": [
    {
     "data": {
      "text/plain": [
       "GFS_CONUS_95km_20180109_1200.grib2"
      ]
     },
     "execution_count": 3,
     "metadata": {},
     "output_type": "execute_result"
    }
   ],
   "source": [
    "latest_dataset"
   ]
  },
  {
   "cell_type": "markdown",
   "metadata": {},
   "source": [
    "<a name=\"local\"></a>\n",
    "We can ask Siphon to download the file locally (roughly 40 MB):"
   ]
  },
  {
   "cell_type": "code",
   "execution_count": 4,
   "metadata": {
    "collapsed": true
   },
   "outputs": [],
   "source": [
    "latest_dataset.download(latest_dataset.name)"
   ]
  },
  {
   "cell_type": "code",
   "execution_count": 5,
   "metadata": {},
   "outputs": [
    {
     "name": "stdout",
     "output_type": "stream",
     "text": [
      "GFS_CONUS_95km_20180109_1200.grib2 remote_access_example.ipynb\r\n",
      "raw_download_example.ipynb         remote_subset_example.ipynb\r\n"
     ]
    }
   ],
   "source": [
    "!ls\n",
    "#!dir if on windows"
   ]
  },
  {
   "cell_type": "markdown",
   "metadata": {},
   "source": [
    "<a name=\"open\"></a>\n",
    "We can also get a file-like object that lets us `read` from the file as if it were local:"
   ]
  },
  {
   "cell_type": "code",
   "execution_count": 6,
   "metadata": {},
   "outputs": [
    {
     "name": "stdout",
     "output_type": "stream",
     "text": [
      "41530201\n"
     ]
    }
   ],
   "source": [
    "fobj = latest_dataset.remote_open()\n",
    "data = fobj.read()\n",
    "print(len(data))"
   ]
  },
  {
   "cell_type": "markdown",
   "metadata": {},
   "source": [
    "This is handy if you have Python code to read a particular format."
   ]
  },
  {
   "cell_type": "code",
   "execution_count": 7,
   "metadata": {
    "scrolled": true
   },
   "outputs": [
    {
     "data": {
      "text/plain": [
       "<_io.BytesIO at 0x106e58518>"
      ]
     },
     "execution_count": 7,
     "metadata": {},
     "output_type": "execute_result"
    }
   ],
   "source": [
    "fobj"
   ]
  },
  {
   "cell_type": "markdown",
   "metadata": {},
   "source": [
    "Just for fun, let's read the first 256 bytes of the file."
   ]
  },
  {
   "cell_type": "code",
   "execution_count": 8,
   "metadata": {},
   "outputs": [
    {
     "data": {
      "text/plain": [
       "0"
      ]
     },
     "execution_count": 8,
     "metadata": {},
     "output_type": "execute_result"
    }
   ],
   "source": [
    "fobj.seek(0)"
   ]
  },
  {
   "cell_type": "code",
   "execution_count": 9,
   "metadata": {},
   "outputs": [
    {
     "data": {
      "text/plain": [
       "b'\\xae\\x00\\x00\\x00\\xf9\\xaf\\xc4\\x87\\xean\\x1e\\x1bJ.\\x88\\x0b\\x83\\xb1lzc\\x1a\\x00\\x00\\x19\\xdfTZ\\x00\\x00\\x00\\x00\\xcb\\xb0\\x02\\x00\\x00\\x00\\x80\\x00\\xc0\\xf4\\x0f\\x03M\\x00\\x00\\x00LTHA30 KWBC 091200 !grib2/ncep/SSIGFS/#213/201801091200F000/TMPK/300 hPa PRES-\\x00\\x00\\x00chico.unidata.ucar.edu_v_idd.unidata.ucar.edu\\x01\\r\\r\\n344 \\r\\r\\nLTHA30 KWBC 091200\\r\\r\\nGRIB\\x00\\x00\\x00\\x02\\x00\\x00\\x00\\x00\\x00\\x00\\x1a?\\x00\\x00\\x00\\x15\\x01\\x00\\x07\\x00\\x00\\x02\\x01\\x01\\x07\\xe2\\x01\\t\\x0c\\x00\\x00\\x00\\x01\\x00\\x00\\x00A\\x03\\x00\\x00\\x00*\\xd5\\x00\\x00\\x00'"
      ]
     },
     "execution_count": 9,
     "metadata": {},
     "output_type": "execute_result"
    }
   ],
   "source": [
    "fobj.read(256)"
   ]
  },
  {
   "cell_type": "markdown",
   "metadata": {},
   "source": [
    "As you can see, you're dealing with the raw bytes of the file - no special interpretation of the file. In this case, we have a `GRIB2` file. Note that this file contains a collection of `GRIB2` records, and each record is prepended with an LDM metadata header. in this example, the LDM header is \n",
    "\n",
    "`LVHA20 KWBC 080600 !grib2/ncep/SSIGFS/#213/201801080600F000/VREL/200 hPa PRES,\\x00\\x00\\x00leno.unidata.ucar.edu_v_idd.unidata.ucar.edu\\x01\\r\\r\\n802 \\r\\r\\nLVHA20 KWBC 080600\\r\\r\\n`\n",
    "\n",
    "According to the `GRIB2` <a href=\"http://www.nco.ncep.noaa.gov/pmb/docs/grib2/grib2_sect0.shtml\">specification</a>, the first section of a `GRIB2` record, called SECTION 0 -- INDICATOR SECTION, is 16 octets long (an octet is 8 bytes), and begins with `GRIB`. So, the that sections looks like:\n",
    "\n",
    "`GRIB\\x00\\x00\\x00\\x02`\n",
    "\n",
    "The last part of the Indicator section, `\\x02`, is an integer representing the version of the `GRIB` record. Just for fun, let's decode that last byte!"
   ]
  },
  {
   "cell_type": "code",
   "execution_count": 10,
   "metadata": {
    "collapsed": true
   },
   "outputs": [],
   "source": [
    "a = b'\\x02'"
   ]
  },
  {
   "cell_type": "code",
   "execution_count": 11,
   "metadata": {},
   "outputs": [
    {
     "data": {
      "text/plain": [
       "2"
      ]
     },
     "execution_count": 11,
     "metadata": {},
     "output_type": "execute_result"
    }
   ],
   "source": [
    "int.from_bytes(b'\\x02', byteorder='big')"
   ]
  },
  {
   "cell_type": "markdown",
   "metadata": {},
   "source": [
    "So, we are dealing with a `GRIB` Edition 2 record. Congratulations - this is the first step of writing a `GRIB2` decoder in python!\n",
    "\n",
    "But again, as you can see, the `.download()` and `remote_open()` methods are very basic, and themselves provide no \"under the hood\" support for easily reading the data into python."
   ]
  }
 ],
 "metadata": {
  "kernelspec": {
   "display_name": "Python 3",
   "language": "python",
   "name": "python3"
  },
  "language_info": {
   "codemirror_mode": {
    "name": "ipython",
    "version": 3
   },
   "file_extension": ".py",
   "mimetype": "text/x-python",
   "name": "python",
   "nbconvert_exporter": "python",
   "pygments_lexer": "ipython3",
   "version": "3.6.4"
  }
 },
 "nbformat": 4,
 "nbformat_minor": 2
}
