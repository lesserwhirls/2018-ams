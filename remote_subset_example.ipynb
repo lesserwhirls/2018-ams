{
 "cells": [
  {
   "cell_type": "markdown",
   "metadata": {},
   "source": [
    "# Remote Subset Example\n",
    "\n",
    "## Objectives\n",
    "1. <a href=\"#find\">Find the latest latest avaliable output from the High Resolution Rapid Refresh (HRRR)</a>\n",
    "1. <a href=\"#grid\">Subset the dataset for a single variable by specifying time and a latitude/longitude bounding box.</a>\n",
    "1. <a href=\"#point\">Extract time series data from a single latitude/longitude</a>"
   ]
  },
  {
   "cell_type": "markdown",
   "metadata": {
    "collapsed": true
   },
   "source": [
    "<a name=\"find\"></a>\n",
    "Let's get the latest avaliable output from the HRRR."
   ]
  },
  {
   "cell_type": "code",
   "execution_count": 73,
   "metadata": {},
   "outputs": [],
   "source": [
    "from siphon.catalog import TDSCatalog\n",
    "cat = TDSCatalog('http://thredds.ucar.edu/thredds/catalog/'\n",
    "                 'grib/NCEP/GFS/Global_0p25deg/catalog.xml')"
   ]
  },
  {
   "cell_type": "code",
   "execution_count": 74,
   "metadata": {
    "collapsed": true
   },
   "outputs": [],
   "source": [
    "latest_dataset = cat.latest"
   ]
  },
  {
   "cell_type": "code",
   "execution_count": 75,
   "metadata": {},
   "outputs": [
    {
     "data": {
      "text/plain": [
       "GFS_Global_0p25deg_20180108_0600.grib2"
      ]
     },
     "execution_count": 75,
     "metadata": {},
     "output_type": "execute_result"
    }
   ],
   "source": [
    "latest_dataset"
   ]
  },
  {
   "cell_type": "code",
   "execution_count": 76,
   "metadata": {},
   "outputs": [
    {
     "data": {
      "text/plain": [
       "{'5-Wave_Geopotential_Height_isobaric',\n",
       " 'Absolute_vorticity_isobaric',\n",
       " 'Albedo_surface_Mixed_intervals_Average',\n",
       " 'Apparent_temperature_height_above_ground',\n",
       " 'Best_4_layer_Lifted_Index_surface',\n",
       " 'Categorical_Freezing_Rain_surface_Mixed_intervals_Average',\n",
       " 'Categorical_Ice_Pellets_surface_Mixed_intervals_Average',\n",
       " 'Categorical_Rain_surface_Mixed_intervals_Average',\n",
       " 'Categorical_Snow_surface_Mixed_intervals_Average',\n",
       " 'Cloud_Work_Function_entire_atmosphere_single_layer_Mixed_intervals_Average',\n",
       " 'Cloud_mixing_ratio_isobaric',\n",
       " 'Cloud_water_entire_atmosphere_single_layer',\n",
       " 'Convective_Precipitation_Rate_surface_Mixed_intervals_Average',\n",
       " 'Convective_available_potential_energy_pressure_difference_layer',\n",
       " 'Convective_available_potential_energy_surface',\n",
       " 'Convective_inhibition_pressure_difference_layer',\n",
       " 'Convective_inhibition_surface',\n",
       " 'Convective_precipitation_surface_Mixed_intervals_Accumulation',\n",
       " 'Dewpoint_temperature_height_above_ground',\n",
       " 'Downward_Long-Wave_Radp_Flux_surface_Mixed_intervals_Average',\n",
       " 'Downward_Short-Wave_Radiation_Flux_surface_Mixed_intervals_Average',\n",
       " 'Field_Capacity_surface',\n",
       " 'Geopotential_height_highest_tropospheric_freezing',\n",
       " 'Geopotential_height_isobaric',\n",
       " 'Geopotential_height_maximum_wind',\n",
       " 'Geopotential_height_potential_vorticity_surface',\n",
       " 'Geopotential_height_surface',\n",
       " 'Geopotential_height_tropopause',\n",
       " 'Geopotential_height_zeroDegC_isotherm',\n",
       " 'Ground_Heat_Flux_surface_Mixed_intervals_Average',\n",
       " 'Haines_index_surface',\n",
       " 'ICAO_Standard_Atmosphere_Reference_Height_maximum_wind',\n",
       " 'ICAO_Standard_Atmosphere_Reference_Height_tropopause',\n",
       " 'Ice_cover_surface',\n",
       " 'Icing_severity_isobaric',\n",
       " 'Land-sea_coverage_nearest_neighbor_land1sea0_surface',\n",
       " 'Land_cover_0__sea_1__land_surface',\n",
       " 'Latent_heat_net_flux_surface_Mixed_intervals_Average',\n",
       " 'MSLP_Eta_model_reduction_msl',\n",
       " 'Maximum_temperature_height_above_ground_Mixed_intervals_Maximum',\n",
       " 'Meridional_Flux_of_Gravity_Wave_Stress_surface_Mixed_intervals_Average',\n",
       " 'Minimum_temperature_height_above_ground_Mixed_intervals_Minimum',\n",
       " 'Momentum_flux_u-component_surface_Mixed_intervals_Average',\n",
       " 'Momentum_flux_v-component_surface_Mixed_intervals_Average',\n",
       " 'Ozone_Mixing_Ratio_isobaric',\n",
       " 'Per_cent_frozen_precipitation_surface',\n",
       " 'Planetary_Boundary_Layer_Height_surface',\n",
       " 'Potential_Evaporation_Rate_surface',\n",
       " 'Potential_temperature_sigma',\n",
       " 'Precipitable_water_entire_atmosphere_single_layer',\n",
       " 'Precipitation_rate_surface_Mixed_intervals_Average',\n",
       " 'Pressure_convective_cloud_bottom',\n",
       " 'Pressure_convective_cloud_top',\n",
       " 'Pressure_height_above_ground',\n",
       " 'Pressure_high_cloud_bottom_Mixed_intervals_Average',\n",
       " 'Pressure_high_cloud_top_Mixed_intervals_Average',\n",
       " 'Pressure_low_cloud_bottom_Mixed_intervals_Average',\n",
       " 'Pressure_low_cloud_top_Mixed_intervals_Average',\n",
       " 'Pressure_maximum_wind',\n",
       " 'Pressure_middle_cloud_bottom_Mixed_intervals_Average',\n",
       " 'Pressure_middle_cloud_top_Mixed_intervals_Average',\n",
       " 'Pressure_of_level_from_which_parcel_was_lifted_pressure_difference_layer',\n",
       " 'Pressure_potential_vorticity_surface',\n",
       " 'Pressure_reduced_to_MSL_msl',\n",
       " 'Pressure_surface',\n",
       " 'Pressure_tropopause',\n",
       " 'Relative_humidity_entire_atmosphere_single_layer',\n",
       " 'Relative_humidity_height_above_ground',\n",
       " 'Relative_humidity_highest_tropospheric_freezing',\n",
       " 'Relative_humidity_isobaric',\n",
       " 'Relative_humidity_pressure_difference_layer',\n",
       " 'Relative_humidity_sigma',\n",
       " 'Relative_humidity_sigma_layer',\n",
       " 'Relative_humidity_zeroDegC_isotherm',\n",
       " 'Sensible_heat_net_flux_surface_Mixed_intervals_Average',\n",
       " 'Snow_depth_surface',\n",
       " 'Soil_temperature_depth_below_surface_layer',\n",
       " 'Specific_humidity_height_above_ground',\n",
       " 'Specific_humidity_pressure_difference_layer',\n",
       " 'Storm_relative_helicity_height_above_ground_layer',\n",
       " 'Sunshine_Duration_surface',\n",
       " 'Surface_Lifted_Index_surface',\n",
       " 'Temperature_altitude_above_msl',\n",
       " 'Temperature_height_above_ground',\n",
       " 'Temperature_high_cloud_top_Mixed_intervals_Average',\n",
       " 'Temperature_isobaric',\n",
       " 'Temperature_low_cloud_top_Mixed_intervals_Average',\n",
       " 'Temperature_maximum_wind',\n",
       " 'Temperature_middle_cloud_top_Mixed_intervals_Average',\n",
       " 'Temperature_potential_vorticity_surface',\n",
       " 'Temperature_pressure_difference_layer',\n",
       " 'Temperature_sigma',\n",
       " 'Temperature_surface',\n",
       " 'Temperature_tropopause',\n",
       " 'Total_cloud_cover_boundary_layer_cloud_Mixed_intervals_Average',\n",
       " 'Total_cloud_cover_convective_cloud',\n",
       " 'Total_cloud_cover_entire_atmosphere_Mixed_intervals_Average',\n",
       " 'Total_cloud_cover_high_cloud_Mixed_intervals_Average',\n",
       " 'Total_cloud_cover_low_cloud_Mixed_intervals_Average',\n",
       " 'Total_cloud_cover_middle_cloud_Mixed_intervals_Average',\n",
       " 'Total_ozone_entire_atmosphere_single_layer',\n",
       " 'Total_precipitation_surface_Mixed_intervals_Accumulation',\n",
       " 'U-Component_Storm_Motion_height_above_ground_layer',\n",
       " 'Upward_Long-Wave_Radp_Flux_atmosphere_top_Mixed_intervals_Average',\n",
       " 'Upward_Long-Wave_Radp_Flux_surface_Mixed_intervals_Average',\n",
       " 'Upward_Short-Wave_Radiation_Flux_atmosphere_top_Mixed_intervals_Average',\n",
       " 'Upward_Short-Wave_Radiation_Flux_surface_Mixed_intervals_Average',\n",
       " 'V-Component_Storm_Motion_height_above_ground_layer',\n",
       " 'Ventilation_Rate_planetary_boundary',\n",
       " 'Vertical_Speed_Shear_potential_vorticity_surface',\n",
       " 'Vertical_Speed_Shear_tropopause',\n",
       " 'Vertical_velocity_pressure_isobaric',\n",
       " 'Vertical_velocity_pressure_sigma',\n",
       " 'Visibility_surface',\n",
       " 'Volumetric_Soil_Moisture_Content_depth_below_surface_layer',\n",
       " 'Water_equivalent_of_accumulated_snow_depth_surface',\n",
       " 'Water_runoff_surface_Mixed_intervals_Accumulation',\n",
       " 'Wilting_Point_surface',\n",
       " 'Wind_speed_gust_surface',\n",
       " 'Zonal_Flux_of_Gravity_Wave_Stress_surface_Mixed_intervals_Average',\n",
       " 'u-component_of_wind_altitude_above_msl',\n",
       " 'u-component_of_wind_height_above_ground',\n",
       " 'u-component_of_wind_isobaric',\n",
       " 'u-component_of_wind_maximum_wind',\n",
       " 'u-component_of_wind_planetary_boundary',\n",
       " 'u-component_of_wind_potential_vorticity_surface',\n",
       " 'u-component_of_wind_pressure_difference_layer',\n",
       " 'u-component_of_wind_sigma',\n",
       " 'u-component_of_wind_tropopause',\n",
       " 'v-component_of_wind_altitude_above_msl',\n",
       " 'v-component_of_wind_height_above_ground',\n",
       " 'v-component_of_wind_isobaric',\n",
       " 'v-component_of_wind_maximum_wind',\n",
       " 'v-component_of_wind_planetary_boundary',\n",
       " 'v-component_of_wind_potential_vorticity_surface',\n",
       " 'v-component_of_wind_pressure_difference_layer',\n",
       " 'v-component_of_wind_sigma',\n",
       " 'v-component_of_wind_tropopause'}"
      ]
     },
     "execution_count": 76,
     "metadata": {},
     "output_type": "execute_result"
    }
   ],
   "source": [
    "ncss = latest_dataset.subset()\n",
    "ncss.variables"
   ]
  },
  {
   "cell_type": "code",
   "execution_count": 77,
   "metadata": {
    "collapsed": true
   },
   "outputs": [],
   "source": [
    "from datetime import datetime, timedelta"
   ]
  },
  {
   "cell_type": "code",
   "execution_count": 78,
   "metadata": {},
   "outputs": [
    {
     "data": {
      "text/plain": [
       "var=Temperature_height_above_ground&time=2018-01-09T03%3A50%3A40.812068&west=-90&east=-80&south=35&north=45&accept=netcdf4"
      ]
     },
     "execution_count": 78,
     "metadata": {},
     "output_type": "execute_result"
    }
   ],
   "source": [
    "query = ncss.query()\n",
    "query.lonlat_box(east=-80, west=-90, south=35, north=45)\n",
    "query.time(now + timedelta(hours=12))\n",
    "query.variables('Temperature_height_above_ground')\n",
    "query.accept('netcdf4')\n"
   ]
  },
  {
   "cell_type": "code",
   "execution_count": 79,
   "metadata": {},
   "outputs": [
    {
     "data": {
      "text/plain": [
       "var=Temperature_height_above_ground&time=2018-01-09T03%3A50%3A40.812068&west=-90&east=-80&south=35&north=45&accept=netcdf4"
      ]
     },
     "execution_count": 79,
     "metadata": {},
     "output_type": "execute_result"
    }
   ],
   "source": [
    "query"
   ]
  },
  {
   "cell_type": "code",
   "execution_count": 80,
   "metadata": {},
   "outputs": [],
   "source": [
    "nc = ncss.get_data(query)"
   ]
  },
  {
   "cell_type": "code",
   "execution_count": 81,
   "metadata": {},
   "outputs": [
    {
     "data": {
      "text/plain": [
       "OrderedDict([('Temperature_height_above_ground',\n",
       "              <class 'netCDF4._netCDF4.Variable'>\n",
       "              float32 Temperature_height_above_ground(time1, height_above_ground4, lat, lon)\n",
       "                  long_name: Temperature @ Specified height level above ground\n",
       "                  units: K\n",
       "                  abbreviation: TMP\n",
       "                  missing_value: nan\n",
       "                  grid_mapping: LatLon_Projection\n",
       "                  coordinates: time1 height_above_ground4 lat lon \n",
       "                  Grib_Variable_Id: VAR_0-0-0_L103\n",
       "                  Grib2_Parameter: [0 0 0]\n",
       "                  Grib2_Parameter_Discipline: Meteorological products\n",
       "                  Grib2_Parameter_Category: Temperature\n",
       "                  Grib2_Parameter_Name: Temperature\n",
       "                  Grib2_Level_Type: 103\n",
       "                  Grib2_Level_Desc: Specified height level above ground\n",
       "                  Grib2_Generating_Process_Type: Forecast\n",
       "              unlimited dimensions: \n",
       "              current shape = (1, 3, 41, 41)\n",
       "              filling on, default _FillValue of 9.969209968386869e+36 used),\n",
       "             ('time1', <class 'netCDF4._netCDF4.Variable'>\n",
       "              float64 time1(time1)\n",
       "                  units: Hour since 2018-01-08T06:00:00Z\n",
       "                  standard_name: time\n",
       "                  long_name: GRIB forecast or observation time\n",
       "                  calendar: proleptic_gregorian\n",
       "                  _CoordinateAxisType: Time\n",
       "              unlimited dimensions: \n",
       "              current shape = (1,)\n",
       "              filling on, default _FillValue of 9.969209968386869e+36 used),\n",
       "             ('height_above_ground4', <class 'netCDF4._netCDF4.Variable'>\n",
       "              float32 height_above_ground4(height_above_ground4)\n",
       "                  units: m\n",
       "                  long_name: Specified height level above ground\n",
       "                  positive: up\n",
       "                  Grib_level_type: 103\n",
       "                  datum: ground\n",
       "                  _CoordinateAxisType: Height\n",
       "                  _CoordinateZisPositive: up\n",
       "              unlimited dimensions: \n",
       "              current shape = (3,)\n",
       "              filling on, default _FillValue of 9.969209968386869e+36 used),\n",
       "             ('lat', <class 'netCDF4._netCDF4.Variable'>\n",
       "              float32 lat(lat)\n",
       "                  units: degrees_north\n",
       "                  _CoordinateAxisType: Lat\n",
       "                  standard_name: latitude\n",
       "              unlimited dimensions: \n",
       "              current shape = (41,)\n",
       "              filling on, default _FillValue of 9.969209968386869e+36 used),\n",
       "             ('lon', <class 'netCDF4._netCDF4.Variable'>\n",
       "              float32 lon(lon)\n",
       "                  units: degrees_east\n",
       "                  _CoordinateAxisType: Lon\n",
       "                  standard_name: longitude\n",
       "              unlimited dimensions: \n",
       "              current shape = (41,)\n",
       "              filling on, default _FillValue of 9.969209968386869e+36 used)])"
      ]
     },
     "execution_count": 81,
     "metadata": {},
     "output_type": "execute_result"
    }
   ],
   "source": [
    "nc.variables"
   ]
  },
  {
   "cell_type": "code",
   "execution_count": 82,
   "metadata": {},
   "outputs": [],
   "source": [
    "%matplotlib inline\n",
    "import matplotlib.pyplot as plt"
   ]
  },
  {
   "cell_type": "code",
   "execution_count": 83,
   "metadata": {},
   "outputs": [
    {
     "data": {
      "text/plain": [
       "<matplotlib.image.AxesImage at 0x11c33b128>"
      ]
     },
     "execution_count": 83,
     "metadata": {},
     "output_type": "execute_result"
    },
    {
     "data": {
      "image/png": "[encoded data removed]",
      "text/plain": [
       "<matplotlib.figure.Figure at 0x11bd17ac8>"
      ]
     },
     "metadata": {},
     "output_type": "display_data"
    }
   ],
   "source": [
    "fig, ax = plt.subplots(1, 1, figsize=(6, 6))\n",
    "ax.imshow(nc.variables['Temperature_height_above_ground'][0,0,::], cmap='RdBu')"
   ]
  },
  {
   "cell_type": "code",
   "execution_count": 110,
   "metadata": {},
   "outputs": [
    {
     "data": {
      "text/plain": [
       "var=Temperature_height_above_ground&time_start=2018-01-08T15%3A50%3A40.812068&time_end=2018-01-10T15%3A50%3A40.812068&longitude=-105&latitude=40&accept=netcdf4"
      ]
     },
     "execution_count": 110,
     "metadata": {},
     "output_type": "execute_result"
    }
   ],
   "source": [
    "query = ncss.query()\n",
    "query.lonlat_point(lon=-105, lat=40)\n",
    "query.time_range(now, now + timedelta(days=2))\n",
    "query.variables('Temperature_height_above_ground')\n",
    "query.accept('netcdf4')"
   ]
  },
  {
   "cell_type": "code",
   "execution_count": 111,
   "metadata": {},
   "outputs": [],
   "source": [
    "nc = ncss.get_data(query)\n",
    "temp_data = nc.variables['Temperature_height_above_ground'][:]\n",
    "times = nc.variables['time'][:]"
   ]
  },
  {
   "cell_type": "code",
   "execution_count": 121,
   "metadata": {},
   "outputs": [
    {
     "data": {
      "text/plain": [
       "[<matplotlib.lines.Line2D at 0x11c2162b0>]"
      ]
     },
     "execution_count": 121,
     "metadata": {},
     "output_type": "execute_result"
    },
    {
     "data": {
      "image/png": "[encoded data removed]",
      "text/plain": [
       "<matplotlib.figure.Figure at 0x11c216d68>"
      ]
     },
     "metadata": {},
     "output_type": "display_data"
    }
   ],
   "source": [
    "fig, ax = plt.subplots(1, 1, figsize=(6, 6))\n",
    "ax.plot(times[0], temp_data[0,:,0])\n"
   ]
  },
  {
   "cell_type": "code",
   "execution_count": 117,
   "metadata": {},
   "outputs": [
    {
     "data": {
      "text/plain": [
       "(16,)"
      ]
     },
     "execution_count": 117,
     "metadata": {},
     "output_type": "execute_result"
    }
   ],
   "source": [
    "temp_data[0,:,0].shape"
   ]
  },
  {
   "cell_type": "code",
   "execution_count": 119,
   "metadata": {},
   "outputs": [
    {
     "data": {
      "text/plain": [
       "(1, 16)"
      ]
     },
     "execution_count": 119,
     "metadata": {},
     "output_type": "execute_result"
    }
   ],
   "source": [
    "times.shape"
   ]
  },
  {
   "cell_type": "code",
   "execution_count": null,
   "metadata": {
    "collapsed": true
   },
   "outputs": [],
   "source": []
  }
 ],
 "metadata": {
  "kernelspec": {
   "display_name": "Python 3",
   "language": "python",
   "name": "python3"
  },
  "language_info": {
   "codemirror_mode": {
    "name": "ipython",
    "version": 3
   },
   "file_extension": ".py",
   "mimetype": "text/x-python",
   "name": "python",
   "nbconvert_exporter": "python",
   "pygments_lexer": "ipython3",
   "version": "3.6.4"
  }
 },
 "nbformat": 4,
 "nbformat_minor": 2
}
