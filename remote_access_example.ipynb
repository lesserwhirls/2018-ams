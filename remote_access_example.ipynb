{
 "cells": [
  {
   "cell_type": "markdown",
   "metadata": {},
   "source": [
    "# Remote Access Example\n",
    "\n",
    "## Objectives\n",
    "1. <a href=\"#find\">Find the latest latest avaliable output from the GFS 1.0 Degree ensemble forecasts</a>\n",
    "1. <a href=\"#open\">Open the latest file and examine the avaliable data variables</a>\n",
    "1. <a href=\"#access\">Access data from a variable</a>"
   ]
  },
  {
   "cell_type": "markdown",
   "metadata": {
    "collapsed": true
   },
   "source": [
    "<a name=\"find\"></a>\n",
    "Let's get the latest avaliable output from the GFS CONUS 95km"
   ]
  },
  {
   "cell_type": "code",
   "execution_count": 57,
   "metadata": {},
   "outputs": [],
   "source": [
    "from siphon.catalog import TDSCatalog\n",
    "cat = TDSCatalog('http://thredds.ucar.edu/thredds/catalog/'\n",
    "                 'grib/NCEP/GEFS/Global_1p0deg_Ensemble/'\n",
    "                 'members/catalog.xml')"
   ]
  },
  {
   "cell_type": "code",
   "execution_count": 58,
   "metadata": {},
   "outputs": [],
   "source": [
    "latest_dataset = cat.latest"
   ]
  },
  {
   "cell_type": "code",
   "execution_count": 59,
   "metadata": {},
   "outputs": [
    {
     "data": {
      "text/plain": [
       "GEFS_Global_1p0deg_Ensemble_20180108_0600.grib2"
      ]
     },
     "execution_count": 59,
     "metadata": {},
     "output_type": "execute_result"
    }
   ],
   "source": [
    "latest_dataset"
   ]
  },
  {
   "cell_type": "markdown",
   "metadata": {},
   "source": [
    "<a name=\"open\"></a>\n",
    "Open the latest file and examine the metadata assocaited with the file and the avaliable data variables"
   ]
  },
  {
   "cell_type": "code",
   "execution_count": 60,
   "metadata": {
    "collapsed": true
   },
   "outputs": [],
   "source": [
    "dataset = latest_dataset.remote_access()"
   ]
  },
  {
   "cell_type": "code",
   "execution_count": 55,
   "metadata": {},
   "outputs": [
    {
     "data": {
      "text/plain": [
       "['Originating_or_generating_Center',\n",
       " 'Originating_or_generating_Subcenter',\n",
       " 'GRIB_table_version',\n",
       " 'Type_of_generating_process',\n",
       " 'Analysis_or_forecast_generating_process_identifier_defined_by_originating_centre',\n",
       " 'file_format',\n",
       " 'Conventions',\n",
       " 'history',\n",
       " 'featureType',\n",
       " '_CoordSysBuilder']"
      ]
     },
     "execution_count": 55,
     "metadata": {},
     "output_type": "execute_result"
    }
   ],
   "source": [
    "list(dataset.ncattrs())"
   ]
  },
  {
   "cell_type": "code",
   "execution_count": 56,
   "metadata": {},
   "outputs": [
    {
     "data": {
      "text/plain": [
       "['LatLon_Projection',\n",
       " 'time_bounds',\n",
       " 'height_above_ground_layer_bounds',\n",
       " 'depth_below_surface_layer_bounds',\n",
       " 'pressure_difference_layer_bounds',\n",
       " 'height_above_ground_layer1_bounds',\n",
       " 'pressure_difference_layer1_bounds',\n",
       " 'pressure_difference_layer2_bounds',\n",
       " 'sigma_layer_bounds',\n",
       " 'Absolute_vorticity_isobaric',\n",
       " 'Albedo_surface_Mixed_intervals_Average',\n",
       " 'Apparent_temperature_height_above_ground',\n",
       " 'Cloud_mixing_ratio_isobaric',\n",
       " 'Cloud_water_entire_atmosphere_single_layer',\n",
       " 'Convective_available_potential_energy_pressure_difference_layer',\n",
       " 'Convective_available_potential_energy_surface',\n",
       " 'Convective_inhibition_surface',\n",
       " 'Convective_inhibition_pressure_difference_layer',\n",
       " 'Convective_precipitation_surface_Mixed_intervals_Accumulation',\n",
       " 'Dewpoint_temperature_height_above_ground',\n",
       " 'Geopotential_height_potential_vorticity_surface',\n",
       " 'Geopotential_height_surface',\n",
       " 'Geopotential_height_highest_tropospheric_freezing',\n",
       " 'Geopotential_height_isobaric',\n",
       " 'Geopotential_height_zeroDegC_isotherm',\n",
       " 'Geopotential_height_maximum_wind',\n",
       " 'Geopotential_height_tropopause',\n",
       " 'Haines_index_surface',\n",
       " 'ICAO_Standard_Atmosphere_Reference_Height_maximum_wind',\n",
       " 'ICAO_Standard_Atmosphere_Reference_Height_tropopause',\n",
       " 'Ice_cover_surface',\n",
       " 'Land_cover_0__sea_1__land_surface',\n",
       " 'Latent_heat_net_flux_surface_Mixed_intervals_Average',\n",
       " 'Maximum_temperature_height_above_ground_Mixed_intervals_Maximum',\n",
       " 'Minimum_temperature_height_above_ground_Mixed_intervals_Minimum',\n",
       " 'Momentum_flux_u-component_surface_Mixed_intervals_Average',\n",
       " 'Momentum_flux_v-component_surface_Mixed_intervals_Average',\n",
       " 'Per_cent_frozen_precipitation_surface',\n",
       " 'Potential_temperature_sigma',\n",
       " 'Precipitable_water_entire_atmosphere_single_layer',\n",
       " 'Precipitation_rate_surface_Mixed_intervals_Average',\n",
       " 'Pressure_potential_vorticity_surface',\n",
       " 'Pressure_surface',\n",
       " 'Pressure_maximum_wind',\n",
       " 'Pressure_high_cloud_top_Mixed_intervals_Average',\n",
       " 'Pressure_high_cloud_bottom_Mixed_intervals_Average',\n",
       " 'Pressure_middle_cloud_bottom_Mixed_intervals_Average',\n",
       " 'Pressure_middle_cloud_top_Mixed_intervals_Average',\n",
       " 'Pressure_height_above_ground',\n",
       " 'Pressure_low_cloud_top_Mixed_intervals_Average',\n",
       " 'Pressure_low_cloud_bottom_Mixed_intervals_Average',\n",
       " 'Pressure_convective_cloud_top',\n",
       " 'Pressure_convective_cloud_bottom',\n",
       " 'Pressure_tropopause',\n",
       " 'Pressure_reduced_to_MSL_msl',\n",
       " 'Relative_humidity_pressure_difference_layer',\n",
       " 'Relative_humidity_sigma_layer',\n",
       " 'Relative_humidity_isobaric',\n",
       " 'Relative_humidity_zeroDegC_isotherm',\n",
       " 'Relative_humidity_height_above_ground',\n",
       " 'Relative_humidity_sigma',\n",
       " 'Relative_humidity_entire_atmosphere_single_layer',\n",
       " 'Relative_humidity_highest_tropospheric_freezing',\n",
       " 'Sensible_heat_net_flux_surface_Mixed_intervals_Average',\n",
       " 'Snow_depth_surface',\n",
       " 'Soil_temperature_depth_below_surface_layer',\n",
       " 'Specific_humidity_pressure_difference_layer',\n",
       " 'Specific_humidity_height_above_ground',\n",
       " 'Storm_relative_helicity_height_above_ground_layer',\n",
       " 'Temperature_potential_vorticity_surface',\n",
       " 'Temperature_pressure_difference_layer',\n",
       " 'Temperature_surface',\n",
       " 'Temperature_isobaric',\n",
       " 'Temperature_maximum_wind',\n",
       " 'Temperature_altitude_above_msl',\n",
       " 'Temperature_height_above_ground',\n",
       " 'Temperature_tropopause',\n",
       " 'Temperature_middle_cloud_top_Mixed_intervals_Average',\n",
       " 'Temperature_high_cloud_top_Mixed_intervals_Average',\n",
       " 'Temperature_low_cloud_top_Mixed_intervals_Average',\n",
       " 'Temperature_sigma',\n",
       " 'Total_cloud_cover_entire_atmosphere_Mixed_intervals_Average',\n",
       " 'Total_cloud_cover_middle_cloud_Mixed_intervals_Average',\n",
       " 'Total_cloud_cover_boundary_layer_cloud_Mixed_intervals_Average',\n",
       " 'Total_cloud_cover_low_cloud_Mixed_intervals_Average',\n",
       " 'Total_cloud_cover_high_cloud_Mixed_intervals_Average',\n",
       " 'Total_cloud_cover_convective_cloud',\n",
       " 'Total_ozone_entire_atmosphere_single_layer',\n",
       " 'Total_precipitation_surface_Mixed_intervals_Accumulation',\n",
       " 'Categorical_Rain_surface_Mixed_intervals_Average',\n",
       " 'Categorical_Freezing_Rain_surface_Mixed_intervals_Average',\n",
       " 'Categorical_Ice_Pellets_surface_Mixed_intervals_Average',\n",
       " 'Categorical_Snow_surface_Mixed_intervals_Average',\n",
       " 'Convective_Precipitation_Rate_surface_Mixed_intervals_Average',\n",
       " 'Potential_Evaporation_Rate_surface',\n",
       " 'Ozone_Mixing_Ratio_isobaric',\n",
       " 'Icing_severity_isobaric',\n",
       " 'Vertical_Speed_Shear_potential_vorticity_surface',\n",
       " 'Vertical_Speed_Shear_tropopause',\n",
       " 'U-Component_Storm_Motion_height_above_ground_layer',\n",
       " 'V-Component_Storm_Motion_height_above_ground_layer',\n",
       " 'Ventilation_Rate_planetary_boundary',\n",
       " 'MSLP_Eta_model_reduction_msl',\n",
       " '5-Wave_Geopotential_Height_isobaric',\n",
       " 'Zonal_Flux_of_Gravity_Wave_Stress_surface_Mixed_intervals_Average',\n",
       " 'Meridional_Flux_of_Gravity_Wave_Stress_surface_Mixed_intervals_Average',\n",
       " 'Planetary_Boundary_Layer_Height_surface',\n",
       " 'Pressure_of_level_from_which_parcel_was_lifted_pressure_difference_layer',\n",
       " 'Downward_Short-Wave_Radiation_Flux_surface_Mixed_intervals_Average',\n",
       " 'Upward_Short-Wave_Radiation_Flux_surface_Mixed_intervals_Average',\n",
       " 'Upward_Short-Wave_Radiation_Flux_atmosphere_top_Mixed_intervals_Average',\n",
       " 'Downward_Long-Wave_Radp_Flux_surface_Mixed_intervals_Average',\n",
       " 'Upward_Long-Wave_Radp_Flux_surface_Mixed_intervals_Average',\n",
       " 'Upward_Long-Wave_Radp_Flux_atmosphere_top_Mixed_intervals_Average',\n",
       " 'Cloud_Work_Function_entire_atmosphere_single_layer_Mixed_intervals_Average',\n",
       " 'Sunshine_Duration_surface',\n",
       " 'Surface_Lifted_Index_surface',\n",
       " 'Best_4_layer_Lifted_Index_surface',\n",
       " 'Volumetric_Soil_Moisture_Content_depth_below_surface_layer',\n",
       " 'Ground_Heat_Flux_surface_Mixed_intervals_Average',\n",
       " 'Wilting_Point_surface',\n",
       " 'Land-sea_coverage_nearest_neighbor_land1sea0_surface',\n",
       " 'Field_Capacity_surface',\n",
       " 'Vertical_velocity_pressure_isobaric',\n",
       " 'Vertical_velocity_pressure_sigma',\n",
       " 'Visibility_surface',\n",
       " 'Water_equivalent_of_accumulated_snow_depth_surface',\n",
       " 'Water_runoff_surface_Mixed_intervals_Accumulation',\n",
       " 'Wind_speed_gust_surface',\n",
       " 'u-component_of_wind_potential_vorticity_surface',\n",
       " 'u-component_of_wind_pressure_difference_layer',\n",
       " 'u-component_of_wind_planetary_boundary',\n",
       " 'u-component_of_wind_isobaric',\n",
       " 'u-component_of_wind_altitude_above_msl',\n",
       " 'u-component_of_wind_maximum_wind',\n",
       " 'u-component_of_wind_height_above_ground',\n",
       " 'u-component_of_wind_tropopause',\n",
       " 'u-component_of_wind_sigma',\n",
       " 'v-component_of_wind_potential_vorticity_surface',\n",
       " 'v-component_of_wind_pressure_difference_layer',\n",
       " 'v-component_of_wind_isobaric',\n",
       " 'v-component_of_wind_planetary_boundary',\n",
       " 'v-component_of_wind_maximum_wind',\n",
       " 'v-component_of_wind_altitude_above_msl',\n",
       " 'v-component_of_wind_height_above_ground',\n",
       " 'v-component_of_wind_tropopause',\n",
       " 'v-component_of_wind_sigma',\n",
       " 'lat',\n",
       " 'lon',\n",
       " 'reftime',\n",
       " 'time',\n",
       " 'time1',\n",
       " 'time2',\n",
       " 'isobaric',\n",
       " 'height_above_ground_layer',\n",
       " 'height_above_ground',\n",
       " 'sigma',\n",
       " 'depth_below_surface_layer',\n",
       " 'pressure_difference_layer',\n",
       " 'isobaric1',\n",
       " 'isobaric2',\n",
       " 'height_above_ground1',\n",
       " 'height_above_ground2',\n",
       " 'isobaric3',\n",
       " 'altitude_above_msl',\n",
       " 'height_above_ground3',\n",
       " 'height_above_ground_layer1',\n",
       " 'pressure_difference_layer1',\n",
       " 'isobaric4',\n",
       " 'pressure_difference_layer2',\n",
       " 'sigma_layer',\n",
       " 'height_above_ground4',\n",
       " 'isobaric5',\n",
       " 'potential_vorticity_surface']"
      ]
     },
     "execution_count": 56,
     "metadata": {},
     "output_type": "execute_result"
    }
   ],
   "source": [
    "list(dataset.variables.keys())"
   ]
  },
  {
   "cell_type": "markdown",
   "metadata": {},
   "source": [
    "Let's look at the variable `Temperature_height_above_ground_ens`:"
   ]
  },
  {
   "cell_type": "code",
   "execution_count": null,
   "metadata": {},
   "outputs": [],
   "source": [
    "dataset.variables['Temperature_height_above_ground_ens'].dimensions"
   ]
  },
  {
   "cell_type": "code",
   "execution_count": null,
   "metadata": {},
   "outputs": [],
   "source": [
    "dataset.variables['Temperature_height_above_ground_ens'].shape"
   ]
  },
  {
   "cell_type": "markdown",
   "metadata": {},
   "source": [
    "Create a grid average timeseries for the first ensemble memeber"
   ]
  },
  {
   "cell_type": "code",
   "execution_count": null,
   "metadata": {},
   "outputs": [],
   "source": [
    "temp_grid_ens_1 = dataset.variables['Temperature_height_above_ground_ens'][:,0,::]"
   ]
  },
  {
   "cell_type": "code",
   "execution_count": null,
   "metadata": {},
   "outputs": [],
   "source": [
    "temp_grid_ens_1.shape"
   ]
  },
  {
   "cell_type": "markdown",
   "metadata": {},
   "source": [
    "Note that data are only transfered over the network when the variable is sliced, and only data coresponding to the slice are downloaded.\n",
    "\n",
    "Now, let's compute the grid average timeseries:"
   ]
  },
  {
   "cell_type": "code",
   "execution_count": null,
   "metadata": {
    "collapsed": true
   },
   "outputs": [],
   "source": [
    "avg_temp_grid_ens_1 = temp_grid_ens_1.mean(axis=(1,2,3))"
   ]
  },
  {
   "cell_type": "code",
   "execution_count": null,
   "metadata": {},
   "outputs": [],
   "source": [
    "avg_temp_ens_1.shape"
   ]
  }
 ],
 "metadata": {
  "kernelspec": {
   "display_name": "Python 3",
   "language": "python",
   "name": "python3"
  },
  "language_info": {
   "codemirror_mode": {
    "name": "ipython",
    "version": 3
   },
   "file_extension": ".py",
   "mimetype": "text/x-python",
   "name": "python",
   "nbconvert_exporter": "python",
   "pygments_lexer": "ipython3",
   "version": "3.6.4"
  }
 },
 "nbformat": 4,
 "nbformat_minor": 2
}
