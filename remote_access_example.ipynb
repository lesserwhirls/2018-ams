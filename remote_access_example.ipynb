{
 "cells": [
  {
   "cell_type": "markdown",
   "metadata": {},
   "source": [
    "# Remote Access Example\n",
    "\n",
    "## Objectives\n",
    "1. <a href=\"#find\">Find the latest latest available output from the GFS 1.0 Degree ensemble forecasts</a>\n",
    "1. <a href=\"#open\">Open the latest file and examine the available data variables</a>\n",
    "1. <a href=\"#access\">Access data from a variable</a>"
   ]
  },
  {
   "cell_type": "markdown",
   "metadata": {
    "collapsed": true
   },
   "source": [
    "<a name=\"find\"></a>\n",
    "Let's get the latest available output from the GFS CONUS 95km"
   ]
  },
  {
   "cell_type": "code",
   "execution_count": 1,
   "metadata": {
    "collapsed": true
   },
   "outputs": [],
   "source": [
    "from siphon.catalog import TDSCatalog\n",
    "cat = TDSCatalog('http://thredds.ucar.edu/thredds/catalog/'\n",
    "                 'grib/NCEP/GEFS/Global_1p0deg_Ensemble/'\n",
    "                 'members/catalog.xml')"
   ]
  },
  {
   "cell_type": "code",
   "execution_count": 2,
   "metadata": {
    "collapsed": true
   },
   "outputs": [],
   "source": [
    "latest_dataset = cat.latest"
   ]
  },
  {
   "cell_type": "code",
   "execution_count": 3,
   "metadata": {},
   "outputs": [
    {
     "data": {
      "text/plain": [
       "GEFS_Global_1p0deg_Ensemble_20180109_1200.grib2"
      ]
     },
     "execution_count": 3,
     "metadata": {},
     "output_type": "execute_result"
    }
   ],
   "source": [
    "latest_dataset"
   ]
  },
  {
   "cell_type": "markdown",
   "metadata": {},
   "source": [
    "<a name=\"open\"></a>\n",
    "Open the latest file and examine the metadata associated with the file and the available data variables"
   ]
  },
  {
   "cell_type": "code",
   "execution_count": 4,
   "metadata": {
    "collapsed": true
   },
   "outputs": [],
   "source": [
    "dataset = latest_dataset.remote_access()"
   ]
  },
  {
   "cell_type": "code",
   "execution_count": 5,
   "metadata": {},
   "outputs": [
    {
     "data": {
      "text/plain": [
       "['Originating_or_generating_Center',\n",
       " 'Originating_or_generating_Subcenter',\n",
       " 'GRIB_table_version',\n",
       " 'Type_of_generating_process',\n",
       " 'Analysis_or_forecast_generating_process_identifier_defined_by_originating_centre',\n",
       " 'file_format',\n",
       " 'Conventions',\n",
       " 'history',\n",
       " 'featureType',\n",
       " '_CoordSysBuilder']"
      ]
     },
     "execution_count": 5,
     "metadata": {},
     "output_type": "execute_result"
    }
   ],
   "source": [
    "list(dataset.ncattrs())"
   ]
  },
  {
   "cell_type": "code",
   "execution_count": 6,
   "metadata": {},
   "outputs": [
    {
     "data": {
      "text/plain": [
       "['LatLon_Projection',\n",
       " 'time_bounds',\n",
       " 'pressure_difference_layer_bounds',\n",
       " 'depth_below_surface_layer_bounds',\n",
       " 'Convective_available_potential_energy_pressure_difference_layer_ens',\n",
       " 'Convective_inhibition_pressure_difference_layer_ens',\n",
       " 'Geopotential_height_surface_ens',\n",
       " 'Geopotential_height_isobaric_ens',\n",
       " 'Latent_heat_net_flux_surface_6_Hour_Average_ens',\n",
       " 'Maximum_temperature_height_above_ground_6_Hour_Maximum_ens',\n",
       " 'Minimum_temperature_height_above_ground_6_Hour_Minimum_ens',\n",
       " 'Precipitable_water_entire_atmosphere_single_layer_ens',\n",
       " 'Pressure_surface_ens',\n",
       " 'Pressure_reduced_to_MSL_msl_ens',\n",
       " 'Relative_humidity_isobaric_ens',\n",
       " 'Relative_humidity_height_above_ground_ens',\n",
       " 'Sensible_heat_net_flux_surface_6_Hour_Average_ens',\n",
       " 'Snow_depth_surface_ens',\n",
       " 'Soil_temperature_depth_below_surface_layer_ens',\n",
       " 'Temperature_isobaric_ens',\n",
       " 'Temperature_height_above_ground_ens',\n",
       " 'Total_cloud_cover_entire_atmosphere_6_Hour_Average_ens',\n",
       " 'Total_precipitation_surface_6_Hour_Accumulation_ens',\n",
       " 'Categorical_Rain_surface_6_Hour_Average_ens',\n",
       " 'Categorical_Freezing_Rain_surface_6_Hour_Average_ens',\n",
       " 'Categorical_Ice_Pellets_surface_6_Hour_Average_ens',\n",
       " 'Categorical_Snow_surface_6_Hour_Average_ens',\n",
       " 'Downward_Short-Wave_Radiation_Flux_surface_6_Hour_Average_ens',\n",
       " 'Upward_Short-Wave_Radiation_Flux_surface_6_Hour_Average_ens',\n",
       " 'Downward_Long-Wave_Radp_Flux_surface_6_Hour_Average_ens',\n",
       " 'Upward_Long-Wave_Radp_Flux_surface_6_Hour_Average_ens',\n",
       " 'Upward_Long-Wave_Radp_Flux_atmosphere_top_6_Hour_Average_ens',\n",
       " 'Volumetric_Soil_Moisture_Content_depth_below_surface_layer_ens',\n",
       " 'Vertical_velocity_pressure_isobaric_ens',\n",
       " 'Water_equivalent_of_accumulated_snow_depth_surface_ens',\n",
       " 'u-component_of_wind_isobaric_ens',\n",
       " 'u-component_of_wind_height_above_ground_ens',\n",
       " 'v-component_of_wind_isobaric_ens',\n",
       " 'v-component_of_wind_height_above_ground_ens',\n",
       " 'lat',\n",
       " 'lon',\n",
       " 'reftime',\n",
       " 'time',\n",
       " 'time1',\n",
       " 'time2',\n",
       " 'pressure_difference_layer',\n",
       " 'isobaric',\n",
       " 'height_above_ground',\n",
       " 'isobaric1',\n",
       " 'depth_below_surface_layer',\n",
       " 'height_above_ground1',\n",
       " 'isobaric2',\n",
       " 'ens']"
      ]
     },
     "execution_count": 6,
     "metadata": {},
     "output_type": "execute_result"
    }
   ],
   "source": [
    "list(dataset.variables.keys())"
   ]
  },
  {
   "cell_type": "markdown",
   "metadata": {},
   "source": [
    "Let's look at the variable `Temperature_height_above_ground_ens`:"
   ]
  },
  {
   "cell_type": "code",
   "execution_count": 7,
   "metadata": {},
   "outputs": [
    {
     "data": {
      "text/plain": [
       "('time2', 'ens', 'height_above_ground', 'lat', 'lon')"
      ]
     },
     "execution_count": 7,
     "metadata": {},
     "output_type": "execute_result"
    }
   ],
   "source": [
    "dataset.variables['Temperature_height_above_ground_ens'].dimensions"
   ]
  },
  {
   "cell_type": "code",
   "execution_count": 8,
   "metadata": {},
   "outputs": [
    {
     "data": {
      "text/plain": [
       "(65, 21, 1, 181, 360)"
      ]
     },
     "execution_count": 8,
     "metadata": {},
     "output_type": "execute_result"
    }
   ],
   "source": [
    "dataset.variables['Temperature_height_above_ground_ens'].shape"
   ]
  },
  {
   "cell_type": "markdown",
   "metadata": {},
   "source": [
    "Create a grid-averaged timeseries for the first ensemble member"
   ]
  },
  {
   "cell_type": "code",
   "execution_count": 9,
   "metadata": {
    "collapsed": true
   },
   "outputs": [],
   "source": [
    "temp_grid_ens_1 = dataset.variables['Temperature_height_above_ground_ens'][:,0,::]"
   ]
  },
  {
   "cell_type": "code",
   "execution_count": 10,
   "metadata": {},
   "outputs": [
    {
     "data": {
      "text/plain": [
       "(65, 1, 181, 360)"
      ]
     },
     "execution_count": 10,
     "metadata": {},
     "output_type": "execute_result"
    }
   ],
   "source": [
    "temp_grid_ens_1.shape"
   ]
  },
  {
   "cell_type": "markdown",
   "metadata": {},
   "source": [
    "Note that data are only transferred over the network when the variable is sliced, and only data corresponding to the slice are downloaded.\n",
    "\n",
    "Now, let's compute the grid average timeseries:"
   ]
  },
  {
   "cell_type": "code",
   "execution_count": 11,
   "metadata": {
    "collapsed": true
   },
   "outputs": [],
   "source": [
    "avg_temp_grid_ens_1 = temp_grid_ens_1.mean(axis=(1,2,3))"
   ]
  },
  {
   "cell_type": "code",
   "execution_count": 12,
   "metadata": {},
   "outputs": [
    {
     "data": {
      "text/plain": [
       "(65,)"
      ]
     },
     "execution_count": 12,
     "metadata": {},
     "output_type": "execute_result"
    }
   ],
   "source": [
    "avg_temp_grid_ens_1.shape"
   ]
  }
 ],
 "metadata": {
  "kernelspec": {
   "display_name": "Python 3",
   "language": "python",
   "name": "python3"
  },
  "language_info": {
   "codemirror_mode": {
    "name": "ipython",
    "version": 3
   },
   "file_extension": ".py",
   "mimetype": "text/x-python",
   "name": "python",
   "nbconvert_exporter": "python",
   "pygments_lexer": "ipython3",
   "version": "3.6.4"
  }
 },
 "nbformat": 4,
 "nbformat_minor": 2
}
